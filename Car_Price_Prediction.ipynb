{
  "cells": [
    {
      "cell_type": "markdown",
      "source": [
        "These characteristics (make, model, year, etc.) are what we call features. The price is our target—the thing we want to predict. Because our target is a number (price), this is a regression problem.\n",
        "\n",
        "Our Game Plan\n",
        "Get the Data: First, we'll download our car dataset.\n",
        "\n",
        "Explore and Investigate: Before building anything, we'll poke around the data to see what stories it tells.\n",
        "\n",
        "Prepare for Validation: We'll carefully split our data to ensure we can trust our model's predictions on new, unseen cars.\n",
        "\n",
        "Build the Model: This is the fun part! We'll code the linear regression algorithm ourselves.\n",
        "\n",
        "Improve the Features: We'll tweak and prepare our data to help the model make better predictions.\n",
        "\n",
        "Finalize and Predict: We'll apply regularization to create a robust, reliable model and then put it to the test."
      ],
      "metadata": {
        "id": "GWInee50IbUH"
      }
    },
    {
      "cell_type": "code",
      "execution_count": null,
      "metadata": {
        "id": "oi0hOTekQDgG"
      },
      "outputs": [],
      "source": [
        "import numpy as np # numpy for numerical operations\n",
        "import pandas as pd # pandas for tabular data\n",
        "import matplotlib.pyplot as plt\n",
        "import seaborn as sns\n",
        "%matplotlib inline"
      ]
    },
    {
      "cell_type": "code",
      "execution_count": null,
      "metadata": {
        "id": "kQs_l0qnQemg"
      },
      "outputs": [],
      "source": [
        "df = pd.read_csv(\"data.csv\")"
      ]
    },
    {
      "cell_type": "markdown",
      "source": [
        "# Explotary data analysis"
      ],
      "metadata": {
        "id": "LcUKWCQ9mXbs"
      }
    },
    {
      "cell_type": "markdown",
      "source": [
        "Our first discovery is that the dataset contains information on nearly 12,000 different cars—a great starting point. A quick glance at the data reveals some common real-world messiness: inconsistent capitalization and spacing in the text. We clean this up by making everything lowercase and replacing spaces with underscores, ensuring consistency for the model."
      ],
      "metadata": {
        "id": "lh4zi31RHxO4"
      }
    },
    {
      "cell_type": "code",
      "execution_count": null,
      "metadata": {
        "colab": {
          "base_uri": "https://localhost:8080/",
          "height": 434
        },
        "id": "Hf4K6rDMRTk_",
        "outputId": "f86c3b12-9ac9-4c3a-848a-fd89890c0e68"
      },
      "outputs": [
        {
          "output_type": "execute_result",
          "data": {
            "text/plain": [
              "  Make       Model  Year             Engine Fuel Type  Engine HP  \\\n",
              "0  BMW  1 Series M  2011  premium unleaded (required)      335.0   \n",
              "1  BMW    1 Series  2011  premium unleaded (required)      300.0   \n",
              "2  BMW    1 Series  2011  premium unleaded (required)      300.0   \n",
              "3  BMW    1 Series  2011  premium unleaded (required)      230.0   \n",
              "4  BMW    1 Series  2011  premium unleaded (required)      230.0   \n",
              "\n",
              "   Engine Cylinders Transmission Type     Driven_Wheels  Number of Doors  \\\n",
              "0               6.0            MANUAL  rear wheel drive              2.0   \n",
              "1               6.0            MANUAL  rear wheel drive              2.0   \n",
              "2               6.0            MANUAL  rear wheel drive              2.0   \n",
              "3               6.0            MANUAL  rear wheel drive              2.0   \n",
              "4               6.0            MANUAL  rear wheel drive              2.0   \n",
              "\n",
              "                         Market Category Vehicle Size Vehicle Style  \\\n",
              "0  Factory Tuner,Luxury,High-Performance      Compact         Coupe   \n",
              "1                     Luxury,Performance      Compact   Convertible   \n",
              "2                Luxury,High-Performance      Compact         Coupe   \n",
              "3                     Luxury,Performance      Compact         Coupe   \n",
              "4                                 Luxury      Compact   Convertible   \n",
              "\n",
              "   highway MPG  city mpg  Popularity   MSRP  \n",
              "0           26        19        3916  46135  \n",
              "1           28        19        3916  40650  \n",
              "2           28        20        3916  36350  \n",
              "3           28        18        3916  29450  \n",
              "4           28        18        3916  34500  "
            ],
            "text/html": [
              "\n",
              "  <div id=\"df-14066dd1-7c0a-48e4-8a60-5d65799ccfc9\" class=\"colab-df-container\">\n",
              "    <div>\n",
              "<style scoped>\n",
              "    .dataframe tbody tr th:only-of-type {\n",
              "        vertical-align: middle;\n",
              "    }\n",
              "\n",
              "    .dataframe tbody tr th {\n",
              "        vertical-align: top;\n",
              "    }\n",
              "\n",
              "    .dataframe thead th {\n",
              "        text-align: right;\n",
              "    }\n",
              "</style>\n",
              "<table border=\"1\" class=\"dataframe\">\n",
              "  <thead>\n",
              "    <tr style=\"text-align: right;\">\n",
              "      <th></th>\n",
              "      <th>Make</th>\n",
              "      <th>Model</th>\n",
              "      <th>Year</th>\n",
              "      <th>Engine Fuel Type</th>\n",
              "      <th>Engine HP</th>\n",
              "      <th>Engine Cylinders</th>\n",
              "      <th>Transmission Type</th>\n",
              "      <th>Driven_Wheels</th>\n",
              "      <th>Number of Doors</th>\n",
              "      <th>Market Category</th>\n",
              "      <th>Vehicle Size</th>\n",
              "      <th>Vehicle Style</th>\n",
              "      <th>highway MPG</th>\n",
              "      <th>city mpg</th>\n",
              "      <th>Popularity</th>\n",
              "      <th>MSRP</th>\n",
              "    </tr>\n",
              "  </thead>\n",
              "  <tbody>\n",
              "    <tr>\n",
              "      <th>0</th>\n",
              "      <td>BMW</td>\n",
              "      <td>1 Series M</td>\n",
              "      <td>2011</td>\n",
              "      <td>premium unleaded (required)</td>\n",
              "      <td>335.0</td>\n",
              "      <td>6.0</td>\n",
              "      <td>MANUAL</td>\n",
              "      <td>rear wheel drive</td>\n",
              "      <td>2.0</td>\n",
              "      <td>Factory Tuner,Luxury,High-Performance</td>\n",
              "      <td>Compact</td>\n",
              "      <td>Coupe</td>\n",
              "      <td>26</td>\n",
              "      <td>19</td>\n",
              "      <td>3916</td>\n",
              "      <td>46135</td>\n",
              "    </tr>\n",
              "    <tr>\n",
              "      <th>1</th>\n",
              "      <td>BMW</td>\n",
              "      <td>1 Series</td>\n",
              "      <td>2011</td>\n",
              "      <td>premium unleaded (required)</td>\n",
              "      <td>300.0</td>\n",
              "      <td>6.0</td>\n",
              "      <td>MANUAL</td>\n",
              "      <td>rear wheel drive</td>\n",
              "      <td>2.0</td>\n",
              "      <td>Luxury,Performance</td>\n",
              "      <td>Compact</td>\n",
              "      <td>Convertible</td>\n",
              "      <td>28</td>\n",
              "      <td>19</td>\n",
              "      <td>3916</td>\n",
              "      <td>40650</td>\n",
              "    </tr>\n",
              "    <tr>\n",
              "      <th>2</th>\n",
              "      <td>BMW</td>\n",
              "      <td>1 Series</td>\n",
              "      <td>2011</td>\n",
              "      <td>premium unleaded (required)</td>\n",
              "      <td>300.0</td>\n",
              "      <td>6.0</td>\n",
              "      <td>MANUAL</td>\n",
              "      <td>rear wheel drive</td>\n",
              "      <td>2.0</td>\n",
              "      <td>Luxury,High-Performance</td>\n",
              "      <td>Compact</td>\n",
              "      <td>Coupe</td>\n",
              "      <td>28</td>\n",
              "      <td>20</td>\n",
              "      <td>3916</td>\n",
              "      <td>36350</td>\n",
              "    </tr>\n",
              "    <tr>\n",
              "      <th>3</th>\n",
              "      <td>BMW</td>\n",
              "      <td>1 Series</td>\n",
              "      <td>2011</td>\n",
              "      <td>premium unleaded (required)</td>\n",
              "      <td>230.0</td>\n",
              "      <td>6.0</td>\n",
              "      <td>MANUAL</td>\n",
              "      <td>rear wheel drive</td>\n",
              "      <td>2.0</td>\n",
              "      <td>Luxury,Performance</td>\n",
              "      <td>Compact</td>\n",
              "      <td>Coupe</td>\n",
              "      <td>28</td>\n",
              "      <td>18</td>\n",
              "      <td>3916</td>\n",
              "      <td>29450</td>\n",
              "    </tr>\n",
              "    <tr>\n",
              "      <th>4</th>\n",
              "      <td>BMW</td>\n",
              "      <td>1 Series</td>\n",
              "      <td>2011</td>\n",
              "      <td>premium unleaded (required)</td>\n",
              "      <td>230.0</td>\n",
              "      <td>6.0</td>\n",
              "      <td>MANUAL</td>\n",
              "      <td>rear wheel drive</td>\n",
              "      <td>2.0</td>\n",
              "      <td>Luxury</td>\n",
              "      <td>Compact</td>\n",
              "      <td>Convertible</td>\n",
              "      <td>28</td>\n",
              "      <td>18</td>\n",
              "      <td>3916</td>\n",
              "      <td>34500</td>\n",
              "    </tr>\n",
              "  </tbody>\n",
              "</table>\n",
              "</div>\n",
              "    <div class=\"colab-df-buttons\">\n",
              "\n",
              "  <div class=\"colab-df-container\">\n",
              "    <button class=\"colab-df-convert\" onclick=\"convertToInteractive('df-14066dd1-7c0a-48e4-8a60-5d65799ccfc9')\"\n",
              "            title=\"Convert this dataframe to an interactive table.\"\n",
              "            style=\"display:none;\">\n",
              "\n",
              "  <svg xmlns=\"http://www.w3.org/2000/svg\" height=\"24px\" viewBox=\"0 -960 960 960\">\n",
              "    <path d=\"M120-120v-720h720v720H120Zm60-500h600v-160H180v160Zm220 220h160v-160H400v160Zm0 220h160v-160H400v160ZM180-400h160v-160H180v160Zm440 0h160v-160H620v160ZM180-180h160v-160H180v160Zm440 0h160v-160H620v160Z\"/>\n",
              "  </svg>\n",
              "    </button>\n",
              "\n",
              "  <style>\n",
              "    .colab-df-container {\n",
              "      display:flex;\n",
              "      gap: 12px;\n",
              "    }\n",
              "\n",
              "    .colab-df-convert {\n",
              "      background-color: #E8F0FE;\n",
              "      border: none;\n",
              "      border-radius: 50%;\n",
              "      cursor: pointer;\n",
              "      display: none;\n",
              "      fill: #1967D2;\n",
              "      height: 32px;\n",
              "      padding: 0 0 0 0;\n",
              "      width: 32px;\n",
              "    }\n",
              "\n",
              "    .colab-df-convert:hover {\n",
              "      background-color: #E2EBFA;\n",
              "      box-shadow: 0px 1px 2px rgba(60, 64, 67, 0.3), 0px 1px 3px 1px rgba(60, 64, 67, 0.15);\n",
              "      fill: #174EA6;\n",
              "    }\n",
              "\n",
              "    .colab-df-buttons div {\n",
              "      margin-bottom: 4px;\n",
              "    }\n",
              "\n",
              "    [theme=dark] .colab-df-convert {\n",
              "      background-color: #3B4455;\n",
              "      fill: #D2E3FC;\n",
              "    }\n",
              "\n",
              "    [theme=dark] .colab-df-convert:hover {\n",
              "      background-color: #434B5C;\n",
              "      box-shadow: 0px 1px 3px 1px rgba(0, 0, 0, 0.15);\n",
              "      filter: drop-shadow(0px 1px 2px rgba(0, 0, 0, 0.3));\n",
              "      fill: #FFFFFF;\n",
              "    }\n",
              "  </style>\n",
              "\n",
              "    <script>\n",
              "      const buttonEl =\n",
              "        document.querySelector('#df-14066dd1-7c0a-48e4-8a60-5d65799ccfc9 button.colab-df-convert');\n",
              "      buttonEl.style.display =\n",
              "        google.colab.kernel.accessAllowed ? 'block' : 'none';\n",
              "\n",
              "      async function convertToInteractive(key) {\n",
              "        const element = document.querySelector('#df-14066dd1-7c0a-48e4-8a60-5d65799ccfc9');\n",
              "        const dataTable =\n",
              "          await google.colab.kernel.invokeFunction('convertToInteractive',\n",
              "                                                    [key], {});\n",
              "        if (!dataTable) return;\n",
              "\n",
              "        const docLinkHtml = 'Like what you see? Visit the ' +\n",
              "          '<a target=\"_blank\" href=https://colab.research.google.com/notebooks/data_table.ipynb>data table notebook</a>'\n",
              "          + ' to learn more about interactive tables.';\n",
              "        element.innerHTML = '';\n",
              "        dataTable['output_type'] = 'display_data';\n",
              "        await google.colab.output.renderOutput(dataTable, element);\n",
              "        const docLink = document.createElement('div');\n",
              "        docLink.innerHTML = docLinkHtml;\n",
              "        element.appendChild(docLink);\n",
              "      }\n",
              "    </script>\n",
              "  </div>\n",
              "\n",
              "\n",
              "    <div id=\"df-cf7c2dd5-6631-4ebd-ad93-17d1291fd851\">\n",
              "      <button class=\"colab-df-quickchart\" onclick=\"quickchart('df-cf7c2dd5-6631-4ebd-ad93-17d1291fd851')\"\n",
              "                title=\"Suggest charts\"\n",
              "                style=\"display:none;\">\n",
              "\n",
              "<svg xmlns=\"http://www.w3.org/2000/svg\" height=\"24px\"viewBox=\"0 0 24 24\"\n",
              "     width=\"24px\">\n",
              "    <g>\n",
              "        <path d=\"M19 3H5c-1.1 0-2 .9-2 2v14c0 1.1.9 2 2 2h14c1.1 0 2-.9 2-2V5c0-1.1-.9-2-2-2zM9 17H7v-7h2v7zm4 0h-2V7h2v10zm4 0h-2v-4h2v4z\"/>\n",
              "    </g>\n",
              "</svg>\n",
              "      </button>\n",
              "\n",
              "<style>\n",
              "  .colab-df-quickchart {\n",
              "      --bg-color: #E8F0FE;\n",
              "      --fill-color: #1967D2;\n",
              "      --hover-bg-color: #E2EBFA;\n",
              "      --hover-fill-color: #174EA6;\n",
              "      --disabled-fill-color: #AAA;\n",
              "      --disabled-bg-color: #DDD;\n",
              "  }\n",
              "\n",
              "  [theme=dark] .colab-df-quickchart {\n",
              "      --bg-color: #3B4455;\n",
              "      --fill-color: #D2E3FC;\n",
              "      --hover-bg-color: #434B5C;\n",
              "      --hover-fill-color: #FFFFFF;\n",
              "      --disabled-bg-color: #3B4455;\n",
              "      --disabled-fill-color: #666;\n",
              "  }\n",
              "\n",
              "  .colab-df-quickchart {\n",
              "    background-color: var(--bg-color);\n",
              "    border: none;\n",
              "    border-radius: 50%;\n",
              "    cursor: pointer;\n",
              "    display: none;\n",
              "    fill: var(--fill-color);\n",
              "    height: 32px;\n",
              "    padding: 0;\n",
              "    width: 32px;\n",
              "  }\n",
              "\n",
              "  .colab-df-quickchart:hover {\n",
              "    background-color: var(--hover-bg-color);\n",
              "    box-shadow: 0 1px 2px rgba(60, 64, 67, 0.3), 0 1px 3px 1px rgba(60, 64, 67, 0.15);\n",
              "    fill: var(--button-hover-fill-color);\n",
              "  }\n",
              "\n",
              "  .colab-df-quickchart-complete:disabled,\n",
              "  .colab-df-quickchart-complete:disabled:hover {\n",
              "    background-color: var(--disabled-bg-color);\n",
              "    fill: var(--disabled-fill-color);\n",
              "    box-shadow: none;\n",
              "  }\n",
              "\n",
              "  .colab-df-spinner {\n",
              "    border: 2px solid var(--fill-color);\n",
              "    border-color: transparent;\n",
              "    border-bottom-color: var(--fill-color);\n",
              "    animation:\n",
              "      spin 1s steps(1) infinite;\n",
              "  }\n",
              "\n",
              "  @keyframes spin {\n",
              "    0% {\n",
              "      border-color: transparent;\n",
              "      border-bottom-color: var(--fill-color);\n",
              "      border-left-color: var(--fill-color);\n",
              "    }\n",
              "    20% {\n",
              "      border-color: transparent;\n",
              "      border-left-color: var(--fill-color);\n",
              "      border-top-color: var(--fill-color);\n",
              "    }\n",
              "    30% {\n",
              "      border-color: transparent;\n",
              "      border-left-color: var(--fill-color);\n",
              "      border-top-color: var(--fill-color);\n",
              "      border-right-color: var(--fill-color);\n",
              "    }\n",
              "    40% {\n",
              "      border-color: transparent;\n",
              "      border-right-color: var(--fill-color);\n",
              "      border-top-color: var(--fill-color);\n",
              "    }\n",
              "    60% {\n",
              "      border-color: transparent;\n",
              "      border-right-color: var(--fill-color);\n",
              "    }\n",
              "    80% {\n",
              "      border-color: transparent;\n",
              "      border-right-color: var(--fill-color);\n",
              "      border-bottom-color: var(--fill-color);\n",
              "    }\n",
              "    90% {\n",
              "      border-color: transparent;\n",
              "      border-bottom-color: var(--fill-color);\n",
              "    }\n",
              "  }\n",
              "</style>\n",
              "\n",
              "      <script>\n",
              "        async function quickchart(key) {\n",
              "          const quickchartButtonEl =\n",
              "            document.querySelector('#' + key + ' button');\n",
              "          quickchartButtonEl.disabled = true;  // To prevent multiple clicks.\n",
              "          quickchartButtonEl.classList.add('colab-df-spinner');\n",
              "          try {\n",
              "            const charts = await google.colab.kernel.invokeFunction(\n",
              "                'suggestCharts', [key], {});\n",
              "          } catch (error) {\n",
              "            console.error('Error during call to suggestCharts:', error);\n",
              "          }\n",
              "          quickchartButtonEl.classList.remove('colab-df-spinner');\n",
              "          quickchartButtonEl.classList.add('colab-df-quickchart-complete');\n",
              "        }\n",
              "        (() => {\n",
              "          let quickchartButtonEl =\n",
              "            document.querySelector('#df-cf7c2dd5-6631-4ebd-ad93-17d1291fd851 button');\n",
              "          quickchartButtonEl.style.display =\n",
              "            google.colab.kernel.accessAllowed ? 'block' : 'none';\n",
              "        })();\n",
              "      </script>\n",
              "    </div>\n",
              "    </div>\n",
              "  </div>\n"
            ],
            "application/vnd.google.colaboratory.intrinsic+json": {
              "type": "dataframe",
              "variable_name": "df",
              "summary": "{\n  \"name\": \"df\",\n  \"rows\": 11914,\n  \"fields\": [\n    {\n      \"column\": \"Make\",\n      \"properties\": {\n        \"dtype\": \"category\",\n        \"num_unique_values\": 48,\n        \"samples\": [\n          \"Chevrolet\",\n          \"Land Rover\",\n          \"Bentley\"\n        ],\n        \"semantic_type\": \"\",\n        \"description\": \"\"\n      }\n    },\n    {\n      \"column\": \"Model\",\n      \"properties\": {\n        \"dtype\": \"category\",\n        \"num_unique_values\": 915,\n        \"samples\": [\n          \"G35\",\n          \"Van\",\n          \"Flex\"\n        ],\n        \"semantic_type\": \"\",\n        \"description\": \"\"\n      }\n    },\n    {\n      \"column\": \"Year\",\n      \"properties\": {\n        \"dtype\": \"number\",\n        \"std\": 7,\n        \"min\": 1990,\n        \"max\": 2017,\n        \"num_unique_values\": 28,\n        \"samples\": [\n          1990,\n          2000,\n          2016\n        ],\n        \"semantic_type\": \"\",\n        \"description\": \"\"\n      }\n    },\n    {\n      \"column\": \"Engine Fuel Type\",\n      \"properties\": {\n        \"dtype\": \"category\",\n        \"num_unique_values\": 10,\n        \"samples\": [\n          \"flex-fuel (premium unleaded required/E85)\",\n          \"regular unleaded\",\n          \"electric\"\n        ],\n        \"semantic_type\": \"\",\n        \"description\": \"\"\n      }\n    },\n    {\n      \"column\": \"Engine HP\",\n      \"properties\": {\n        \"dtype\": \"number\",\n        \"std\": 109.19187025917257,\n        \"min\": 55.0,\n        \"max\": 1001.0,\n        \"num_unique_values\": 356,\n        \"samples\": [\n          145.0,\n          201.0,\n          219.0\n        ],\n        \"semantic_type\": \"\",\n        \"description\": \"\"\n      }\n    },\n    {\n      \"column\": \"Engine Cylinders\",\n      \"properties\": {\n        \"dtype\": \"number\",\n        \"std\": 1.7805593482463664,\n        \"min\": 0.0,\n        \"max\": 16.0,\n        \"num_unique_values\": 9,\n        \"samples\": [\n          3.0,\n          4.0,\n          0.0\n        ],\n        \"semantic_type\": \"\",\n        \"description\": \"\"\n      }\n    },\n    {\n      \"column\": \"Transmission Type\",\n      \"properties\": {\n        \"dtype\": \"category\",\n        \"num_unique_values\": 5,\n        \"samples\": [\n          \"AUTOMATIC\",\n          \"UNKNOWN\",\n          \"AUTOMATED_MANUAL\"\n        ],\n        \"semantic_type\": \"\",\n        \"description\": \"\"\n      }\n    },\n    {\n      \"column\": \"Driven_Wheels\",\n      \"properties\": {\n        \"dtype\": \"category\",\n        \"num_unique_values\": 4,\n        \"samples\": [\n          \"front wheel drive\",\n          \"four wheel drive\",\n          \"rear wheel drive\"\n        ],\n        \"semantic_type\": \"\",\n        \"description\": \"\"\n      }\n    },\n    {\n      \"column\": \"Number of Doors\",\n      \"properties\": {\n        \"dtype\": \"number\",\n        \"std\": 0.8813153865835297,\n        \"min\": 2.0,\n        \"max\": 4.0,\n        \"num_unique_values\": 3,\n        \"samples\": [\n          2.0,\n          4.0,\n          3.0\n        ],\n        \"semantic_type\": \"\",\n        \"description\": \"\"\n      }\n    },\n    {\n      \"column\": \"Market Category\",\n      \"properties\": {\n        \"dtype\": \"category\",\n        \"num_unique_values\": 71,\n        \"samples\": [\n          \"Exotic,Luxury,Performance\",\n          \"Factory Tuner,Luxury,High-Performance\",\n          \"Crossover,Flex Fuel,Luxury\"\n        ],\n        \"semantic_type\": \"\",\n        \"description\": \"\"\n      }\n    },\n    {\n      \"column\": \"Vehicle Size\",\n      \"properties\": {\n        \"dtype\": \"category\",\n        \"num_unique_values\": 3,\n        \"samples\": [\n          \"Compact\",\n          \"Midsize\",\n          \"Large\"\n        ],\n        \"semantic_type\": \"\",\n        \"description\": \"\"\n      }\n    },\n    {\n      \"column\": \"Vehicle Style\",\n      \"properties\": {\n        \"dtype\": \"category\",\n        \"num_unique_values\": 16,\n        \"samples\": [\n          \"Coupe\",\n          \"Convertible\",\n          \"2dr Hatchback\"\n        ],\n        \"semantic_type\": \"\",\n        \"description\": \"\"\n      }\n    },\n    {\n      \"column\": \"highway MPG\",\n      \"properties\": {\n        \"dtype\": \"number\",\n        \"std\": 8,\n        \"min\": 12,\n        \"max\": 354,\n        \"num_unique_values\": 59,\n        \"samples\": [\n          26,\n          20,\n          354\n        ],\n        \"semantic_type\": \"\",\n        \"description\": \"\"\n      }\n    },\n    {\n      \"column\": \"city mpg\",\n      \"properties\": {\n        \"dtype\": \"number\",\n        \"std\": 8,\n        \"min\": 7,\n        \"max\": 137,\n        \"num_unique_values\": 69,\n        \"samples\": [\n          9,\n          19,\n          41\n        ],\n        \"semantic_type\": \"\",\n        \"description\": \"\"\n      }\n    },\n    {\n      \"column\": \"Popularity\",\n      \"properties\": {\n        \"dtype\": \"number\",\n        \"std\": 1441,\n        \"min\": 2,\n        \"max\": 5657,\n        \"num_unique_values\": 48,\n        \"samples\": [\n          1385,\n          258,\n          520\n        ],\n        \"semantic_type\": \"\",\n        \"description\": \"\"\n      }\n    },\n    {\n      \"column\": \"MSRP\",\n      \"properties\": {\n        \"dtype\": \"number\",\n        \"std\": 60109,\n        \"min\": 2000,\n        \"max\": 2065902,\n        \"num_unique_values\": 6049,\n        \"samples\": [\n          42610,\n          32030,\n          89995\n        ],\n        \"semantic_type\": \"\",\n        \"description\": \"\"\n      }\n    }\n  ]\n}"
            }
          },
          "metadata": {},
          "execution_count": 3
        }
      ],
      "source": [
        "df.head()"
      ]
    },
    {
      "cell_type": "code",
      "execution_count": null,
      "metadata": {
        "colab": {
          "base_uri": "https://localhost:8080/"
        },
        "id": "ounyYFnYSAqr",
        "outputId": "f6934f38-c858-421d-9ed8-c0a5f2bee7e9"
      },
      "outputs": [
        {
          "output_type": "execute_result",
          "data": {
            "text/plain": [
              "11914"
            ]
          },
          "metadata": {},
          "execution_count": 4
        }
      ],
      "source": [
        "len(df)"
      ]
    },
    {
      "cell_type": "code",
      "execution_count": null,
      "metadata": {
        "id": "Ija5tSPGjb34"
      },
      "outputs": [],
      "source": [
        "df.columns = df.columns.str.lower().str.replace(' ', '_')\n",
        "string_columns = list(df.dtypes[df.dtypes == 'object'].index)\n",
        "for col in string_columns:\n",
        "    df[col] = df[col].str.lower().str.replace(' ', '_')"
      ]
    },
    {
      "cell_type": "code",
      "execution_count": null,
      "metadata": {
        "colab": {
          "base_uri": "https://localhost:8080/",
          "height": 243
        },
        "id": "xctAzsfulxj1",
        "outputId": "3875f9f4-5953-4f7f-af91-3024073ac548"
      },
      "outputs": [
        {
          "output_type": "execute_result",
          "data": {
            "text/plain": [
              "  make       model  year             engine_fuel_type  engine_hp  \\\n",
              "0  bmw  1_series_m  2011  premium_unleaded_(required)      335.0   \n",
              "1  bmw    1_series  2011  premium_unleaded_(required)      300.0   \n",
              "2  bmw    1_series  2011  premium_unleaded_(required)      300.0   \n",
              "3  bmw    1_series  2011  premium_unleaded_(required)      230.0   \n",
              "4  bmw    1_series  2011  premium_unleaded_(required)      230.0   \n",
              "\n",
              "   engine_cylinders transmission_type     driven_wheels  number_of_doors  \\\n",
              "0               6.0            manual  rear_wheel_drive              2.0   \n",
              "1               6.0            manual  rear_wheel_drive              2.0   \n",
              "2               6.0            manual  rear_wheel_drive              2.0   \n",
              "3               6.0            manual  rear_wheel_drive              2.0   \n",
              "4               6.0            manual  rear_wheel_drive              2.0   \n",
              "\n",
              "                         market_category vehicle_size vehicle_style  \\\n",
              "0  factory_tuner,luxury,high-performance      compact         coupe   \n",
              "1                     luxury,performance      compact   convertible   \n",
              "2                luxury,high-performance      compact         coupe   \n",
              "3                     luxury,performance      compact         coupe   \n",
              "4                                 luxury      compact   convertible   \n",
              "\n",
              "   highway_mpg  city_mpg  popularity   msrp  \n",
              "0           26        19        3916  46135  \n",
              "1           28        19        3916  40650  \n",
              "2           28        20        3916  36350  \n",
              "3           28        18        3916  29450  \n",
              "4           28        18        3916  34500  "
            ],
            "text/html": [
              "\n",
              "  <div id=\"df-8044b4d2-8767-4736-b809-4d22d6d52821\" class=\"colab-df-container\">\n",
              "    <div>\n",
              "<style scoped>\n",
              "    .dataframe tbody tr th:only-of-type {\n",
              "        vertical-align: middle;\n",
              "    }\n",
              "\n",
              "    .dataframe tbody tr th {\n",
              "        vertical-align: top;\n",
              "    }\n",
              "\n",
              "    .dataframe thead th {\n",
              "        text-align: right;\n",
              "    }\n",
              "</style>\n",
              "<table border=\"1\" class=\"dataframe\">\n",
              "  <thead>\n",
              "    <tr style=\"text-align: right;\">\n",
              "      <th></th>\n",
              "      <th>make</th>\n",
              "      <th>model</th>\n",
              "      <th>year</th>\n",
              "      <th>engine_fuel_type</th>\n",
              "      <th>engine_hp</th>\n",
              "      <th>engine_cylinders</th>\n",
              "      <th>transmission_type</th>\n",
              "      <th>driven_wheels</th>\n",
              "      <th>number_of_doors</th>\n",
              "      <th>market_category</th>\n",
              "      <th>vehicle_size</th>\n",
              "      <th>vehicle_style</th>\n",
              "      <th>highway_mpg</th>\n",
              "      <th>city_mpg</th>\n",
              "      <th>popularity</th>\n",
              "      <th>msrp</th>\n",
              "    </tr>\n",
              "  </thead>\n",
              "  <tbody>\n",
              "    <tr>\n",
              "      <th>0</th>\n",
              "      <td>bmw</td>\n",
              "      <td>1_series_m</td>\n",
              "      <td>2011</td>\n",
              "      <td>premium_unleaded_(required)</td>\n",
              "      <td>335.0</td>\n",
              "      <td>6.0</td>\n",
              "      <td>manual</td>\n",
              "      <td>rear_wheel_drive</td>\n",
              "      <td>2.0</td>\n",
              "      <td>factory_tuner,luxury,high-performance</td>\n",
              "      <td>compact</td>\n",
              "      <td>coupe</td>\n",
              "      <td>26</td>\n",
              "      <td>19</td>\n",
              "      <td>3916</td>\n",
              "      <td>46135</td>\n",
              "    </tr>\n",
              "    <tr>\n",
              "      <th>1</th>\n",
              "      <td>bmw</td>\n",
              "      <td>1_series</td>\n",
              "      <td>2011</td>\n",
              "      <td>premium_unleaded_(required)</td>\n",
              "      <td>300.0</td>\n",
              "      <td>6.0</td>\n",
              "      <td>manual</td>\n",
              "      <td>rear_wheel_drive</td>\n",
              "      <td>2.0</td>\n",
              "      <td>luxury,performance</td>\n",
              "      <td>compact</td>\n",
              "      <td>convertible</td>\n",
              "      <td>28</td>\n",
              "      <td>19</td>\n",
              "      <td>3916</td>\n",
              "      <td>40650</td>\n",
              "    </tr>\n",
              "    <tr>\n",
              "      <th>2</th>\n",
              "      <td>bmw</td>\n",
              "      <td>1_series</td>\n",
              "      <td>2011</td>\n",
              "      <td>premium_unleaded_(required)</td>\n",
              "      <td>300.0</td>\n",
              "      <td>6.0</td>\n",
              "      <td>manual</td>\n",
              "      <td>rear_wheel_drive</td>\n",
              "      <td>2.0</td>\n",
              "      <td>luxury,high-performance</td>\n",
              "      <td>compact</td>\n",
              "      <td>coupe</td>\n",
              "      <td>28</td>\n",
              "      <td>20</td>\n",
              "      <td>3916</td>\n",
              "      <td>36350</td>\n",
              "    </tr>\n",
              "    <tr>\n",
              "      <th>3</th>\n",
              "      <td>bmw</td>\n",
              "      <td>1_series</td>\n",
              "      <td>2011</td>\n",
              "      <td>premium_unleaded_(required)</td>\n",
              "      <td>230.0</td>\n",
              "      <td>6.0</td>\n",
              "      <td>manual</td>\n",
              "      <td>rear_wheel_drive</td>\n",
              "      <td>2.0</td>\n",
              "      <td>luxury,performance</td>\n",
              "      <td>compact</td>\n",
              "      <td>coupe</td>\n",
              "      <td>28</td>\n",
              "      <td>18</td>\n",
              "      <td>3916</td>\n",
              "      <td>29450</td>\n",
              "    </tr>\n",
              "    <tr>\n",
              "      <th>4</th>\n",
              "      <td>bmw</td>\n",
              "      <td>1_series</td>\n",
              "      <td>2011</td>\n",
              "      <td>premium_unleaded_(required)</td>\n",
              "      <td>230.0</td>\n",
              "      <td>6.0</td>\n",
              "      <td>manual</td>\n",
              "      <td>rear_wheel_drive</td>\n",
              "      <td>2.0</td>\n",
              "      <td>luxury</td>\n",
              "      <td>compact</td>\n",
              "      <td>convertible</td>\n",
              "      <td>28</td>\n",
              "      <td>18</td>\n",
              "      <td>3916</td>\n",
              "      <td>34500</td>\n",
              "    </tr>\n",
              "  </tbody>\n",
              "</table>\n",
              "</div>\n",
              "    <div class=\"colab-df-buttons\">\n",
              "\n",
              "  <div class=\"colab-df-container\">\n",
              "    <button class=\"colab-df-convert\" onclick=\"convertToInteractive('df-8044b4d2-8767-4736-b809-4d22d6d52821')\"\n",
              "            title=\"Convert this dataframe to an interactive table.\"\n",
              "            style=\"display:none;\">\n",
              "\n",
              "  <svg xmlns=\"http://www.w3.org/2000/svg\" height=\"24px\" viewBox=\"0 -960 960 960\">\n",
              "    <path d=\"M120-120v-720h720v720H120Zm60-500h600v-160H180v160Zm220 220h160v-160H400v160Zm0 220h160v-160H400v160ZM180-400h160v-160H180v160Zm440 0h160v-160H620v160ZM180-180h160v-160H180v160Zm440 0h160v-160H620v160Z\"/>\n",
              "  </svg>\n",
              "    </button>\n",
              "\n",
              "  <style>\n",
              "    .colab-df-container {\n",
              "      display:flex;\n",
              "      gap: 12px;\n",
              "    }\n",
              "\n",
              "    .colab-df-convert {\n",
              "      background-color: #E8F0FE;\n",
              "      border: none;\n",
              "      border-radius: 50%;\n",
              "      cursor: pointer;\n",
              "      display: none;\n",
              "      fill: #1967D2;\n",
              "      height: 32px;\n",
              "      padding: 0 0 0 0;\n",
              "      width: 32px;\n",
              "    }\n",
              "\n",
              "    .colab-df-convert:hover {\n",
              "      background-color: #E2EBFA;\n",
              "      box-shadow: 0px 1px 2px rgba(60, 64, 67, 0.3), 0px 1px 3px 1px rgba(60, 64, 67, 0.15);\n",
              "      fill: #174EA6;\n",
              "    }\n",
              "\n",
              "    .colab-df-buttons div {\n",
              "      margin-bottom: 4px;\n",
              "    }\n",
              "\n",
              "    [theme=dark] .colab-df-convert {\n",
              "      background-color: #3B4455;\n",
              "      fill: #D2E3FC;\n",
              "    }\n",
              "\n",
              "    [theme=dark] .colab-df-convert:hover {\n",
              "      background-color: #434B5C;\n",
              "      box-shadow: 0px 1px 3px 1px rgba(0, 0, 0, 0.15);\n",
              "      filter: drop-shadow(0px 1px 2px rgba(0, 0, 0, 0.3));\n",
              "      fill: #FFFFFF;\n",
              "    }\n",
              "  </style>\n",
              "\n",
              "    <script>\n",
              "      const buttonEl =\n",
              "        document.querySelector('#df-8044b4d2-8767-4736-b809-4d22d6d52821 button.colab-df-convert');\n",
              "      buttonEl.style.display =\n",
              "        google.colab.kernel.accessAllowed ? 'block' : 'none';\n",
              "\n",
              "      async function convertToInteractive(key) {\n",
              "        const element = document.querySelector('#df-8044b4d2-8767-4736-b809-4d22d6d52821');\n",
              "        const dataTable =\n",
              "          await google.colab.kernel.invokeFunction('convertToInteractive',\n",
              "                                                    [key], {});\n",
              "        if (!dataTable) return;\n",
              "\n",
              "        const docLinkHtml = 'Like what you see? Visit the ' +\n",
              "          '<a target=\"_blank\" href=https://colab.research.google.com/notebooks/data_table.ipynb>data table notebook</a>'\n",
              "          + ' to learn more about interactive tables.';\n",
              "        element.innerHTML = '';\n",
              "        dataTable['output_type'] = 'display_data';\n",
              "        await google.colab.output.renderOutput(dataTable, element);\n",
              "        const docLink = document.createElement('div');\n",
              "        docLink.innerHTML = docLinkHtml;\n",
              "        element.appendChild(docLink);\n",
              "      }\n",
              "    </script>\n",
              "  </div>\n",
              "\n",
              "\n",
              "    <div id=\"df-e74ea16b-f38c-4c46-ae42-4b9712dd0b63\">\n",
              "      <button class=\"colab-df-quickchart\" onclick=\"quickchart('df-e74ea16b-f38c-4c46-ae42-4b9712dd0b63')\"\n",
              "                title=\"Suggest charts\"\n",
              "                style=\"display:none;\">\n",
              "\n",
              "<svg xmlns=\"http://www.w3.org/2000/svg\" height=\"24px\"viewBox=\"0 0 24 24\"\n",
              "     width=\"24px\">\n",
              "    <g>\n",
              "        <path d=\"M19 3H5c-1.1 0-2 .9-2 2v14c0 1.1.9 2 2 2h14c1.1 0 2-.9 2-2V5c0-1.1-.9-2-2-2zM9 17H7v-7h2v7zm4 0h-2V7h2v10zm4 0h-2v-4h2v4z\"/>\n",
              "    </g>\n",
              "</svg>\n",
              "      </button>\n",
              "\n",
              "<style>\n",
              "  .colab-df-quickchart {\n",
              "      --bg-color: #E8F0FE;\n",
              "      --fill-color: #1967D2;\n",
              "      --hover-bg-color: #E2EBFA;\n",
              "      --hover-fill-color: #174EA6;\n",
              "      --disabled-fill-color: #AAA;\n",
              "      --disabled-bg-color: #DDD;\n",
              "  }\n",
              "\n",
              "  [theme=dark] .colab-df-quickchart {\n",
              "      --bg-color: #3B4455;\n",
              "      --fill-color: #D2E3FC;\n",
              "      --hover-bg-color: #434B5C;\n",
              "      --hover-fill-color: #FFFFFF;\n",
              "      --disabled-bg-color: #3B4455;\n",
              "      --disabled-fill-color: #666;\n",
              "  }\n",
              "\n",
              "  .colab-df-quickchart {\n",
              "    background-color: var(--bg-color);\n",
              "    border: none;\n",
              "    border-radius: 50%;\n",
              "    cursor: pointer;\n",
              "    display: none;\n",
              "    fill: var(--fill-color);\n",
              "    height: 32px;\n",
              "    padding: 0;\n",
              "    width: 32px;\n",
              "  }\n",
              "\n",
              "  .colab-df-quickchart:hover {\n",
              "    background-color: var(--hover-bg-color);\n",
              "    box-shadow: 0 1px 2px rgba(60, 64, 67, 0.3), 0 1px 3px 1px rgba(60, 64, 67, 0.15);\n",
              "    fill: var(--button-hover-fill-color);\n",
              "  }\n",
              "\n",
              "  .colab-df-quickchart-complete:disabled,\n",
              "  .colab-df-quickchart-complete:disabled:hover {\n",
              "    background-color: var(--disabled-bg-color);\n",
              "    fill: var(--disabled-fill-color);\n",
              "    box-shadow: none;\n",
              "  }\n",
              "\n",
              "  .colab-df-spinner {\n",
              "    border: 2px solid var(--fill-color);\n",
              "    border-color: transparent;\n",
              "    border-bottom-color: var(--fill-color);\n",
              "    animation:\n",
              "      spin 1s steps(1) infinite;\n",
              "  }\n",
              "\n",
              "  @keyframes spin {\n",
              "    0% {\n",
              "      border-color: transparent;\n",
              "      border-bottom-color: var(--fill-color);\n",
              "      border-left-color: var(--fill-color);\n",
              "    }\n",
              "    20% {\n",
              "      border-color: transparent;\n",
              "      border-left-color: var(--fill-color);\n",
              "      border-top-color: var(--fill-color);\n",
              "    }\n",
              "    30% {\n",
              "      border-color: transparent;\n",
              "      border-left-color: var(--fill-color);\n",
              "      border-top-color: var(--fill-color);\n",
              "      border-right-color: var(--fill-color);\n",
              "    }\n",
              "    40% {\n",
              "      border-color: transparent;\n",
              "      border-right-color: var(--fill-color);\n",
              "      border-top-color: var(--fill-color);\n",
              "    }\n",
              "    60% {\n",
              "      border-color: transparent;\n",
              "      border-right-color: var(--fill-color);\n",
              "    }\n",
              "    80% {\n",
              "      border-color: transparent;\n",
              "      border-right-color: var(--fill-color);\n",
              "      border-bottom-color: var(--fill-color);\n",
              "    }\n",
              "    90% {\n",
              "      border-color: transparent;\n",
              "      border-bottom-color: var(--fill-color);\n",
              "    }\n",
              "  }\n",
              "</style>\n",
              "\n",
              "      <script>\n",
              "        async function quickchart(key) {\n",
              "          const quickchartButtonEl =\n",
              "            document.querySelector('#' + key + ' button');\n",
              "          quickchartButtonEl.disabled = true;  // To prevent multiple clicks.\n",
              "          quickchartButtonEl.classList.add('colab-df-spinner');\n",
              "          try {\n",
              "            const charts = await google.colab.kernel.invokeFunction(\n",
              "                'suggestCharts', [key], {});\n",
              "          } catch (error) {\n",
              "            console.error('Error during call to suggestCharts:', error);\n",
              "          }\n",
              "          quickchartButtonEl.classList.remove('colab-df-spinner');\n",
              "          quickchartButtonEl.classList.add('colab-df-quickchart-complete');\n",
              "        }\n",
              "        (() => {\n",
              "          let quickchartButtonEl =\n",
              "            document.querySelector('#df-e74ea16b-f38c-4c46-ae42-4b9712dd0b63 button');\n",
              "          quickchartButtonEl.style.display =\n",
              "            google.colab.kernel.accessAllowed ? 'block' : 'none';\n",
              "        })();\n",
              "      </script>\n",
              "    </div>\n",
              "    </div>\n",
              "  </div>\n"
            ],
            "application/vnd.google.colaboratory.intrinsic+json": {
              "type": "dataframe",
              "variable_name": "df",
              "summary": "{\n  \"name\": \"df\",\n  \"rows\": 11914,\n  \"fields\": [\n    {\n      \"column\": \"make\",\n      \"properties\": {\n        \"dtype\": \"category\",\n        \"num_unique_values\": 48,\n        \"samples\": [\n          \"chevrolet\",\n          \"land_rover\",\n          \"bentley\"\n        ],\n        \"semantic_type\": \"\",\n        \"description\": \"\"\n      }\n    },\n    {\n      \"column\": \"model\",\n      \"properties\": {\n        \"dtype\": \"category\",\n        \"num_unique_values\": 914,\n        \"samples\": [\n          \"g35\",\n          \"van\",\n          \"flex\"\n        ],\n        \"semantic_type\": \"\",\n        \"description\": \"\"\n      }\n    },\n    {\n      \"column\": \"year\",\n      \"properties\": {\n        \"dtype\": \"number\",\n        \"std\": 7,\n        \"min\": 1990,\n        \"max\": 2017,\n        \"num_unique_values\": 28,\n        \"samples\": [\n          1990,\n          2000,\n          2016\n        ],\n        \"semantic_type\": \"\",\n        \"description\": \"\"\n      }\n    },\n    {\n      \"column\": \"engine_fuel_type\",\n      \"properties\": {\n        \"dtype\": \"category\",\n        \"num_unique_values\": 10,\n        \"samples\": [\n          \"flex-fuel_(premium_unleaded_required/e85)\",\n          \"regular_unleaded\",\n          \"electric\"\n        ],\n        \"semantic_type\": \"\",\n        \"description\": \"\"\n      }\n    },\n    {\n      \"column\": \"engine_hp\",\n      \"properties\": {\n        \"dtype\": \"number\",\n        \"std\": 109.19187025917257,\n        \"min\": 55.0,\n        \"max\": 1001.0,\n        \"num_unique_values\": 356,\n        \"samples\": [\n          145.0,\n          201.0,\n          219.0\n        ],\n        \"semantic_type\": \"\",\n        \"description\": \"\"\n      }\n    },\n    {\n      \"column\": \"engine_cylinders\",\n      \"properties\": {\n        \"dtype\": \"number\",\n        \"std\": 1.7805593482463664,\n        \"min\": 0.0,\n        \"max\": 16.0,\n        \"num_unique_values\": 9,\n        \"samples\": [\n          3.0,\n          4.0,\n          0.0\n        ],\n        \"semantic_type\": \"\",\n        \"description\": \"\"\n      }\n    },\n    {\n      \"column\": \"transmission_type\",\n      \"properties\": {\n        \"dtype\": \"category\",\n        \"num_unique_values\": 5,\n        \"samples\": [\n          \"automatic\",\n          \"unknown\",\n          \"automated_manual\"\n        ],\n        \"semantic_type\": \"\",\n        \"description\": \"\"\n      }\n    },\n    {\n      \"column\": \"driven_wheels\",\n      \"properties\": {\n        \"dtype\": \"category\",\n        \"num_unique_values\": 4,\n        \"samples\": [\n          \"front_wheel_drive\",\n          \"four_wheel_drive\",\n          \"rear_wheel_drive\"\n        ],\n        \"semantic_type\": \"\",\n        \"description\": \"\"\n      }\n    },\n    {\n      \"column\": \"number_of_doors\",\n      \"properties\": {\n        \"dtype\": \"number\",\n        \"std\": 0.8813153865835297,\n        \"min\": 2.0,\n        \"max\": 4.0,\n        \"num_unique_values\": 3,\n        \"samples\": [\n          2.0,\n          4.0,\n          3.0\n        ],\n        \"semantic_type\": \"\",\n        \"description\": \"\"\n      }\n    },\n    {\n      \"column\": \"market_category\",\n      \"properties\": {\n        \"dtype\": \"category\",\n        \"num_unique_values\": 71,\n        \"samples\": [\n          \"exotic,luxury,performance\",\n          \"factory_tuner,luxury,high-performance\",\n          \"crossover,flex_fuel,luxury\"\n        ],\n        \"semantic_type\": \"\",\n        \"description\": \"\"\n      }\n    },\n    {\n      \"column\": \"vehicle_size\",\n      \"properties\": {\n        \"dtype\": \"category\",\n        \"num_unique_values\": 3,\n        \"samples\": [\n          \"compact\",\n          \"midsize\",\n          \"large\"\n        ],\n        \"semantic_type\": \"\",\n        \"description\": \"\"\n      }\n    },\n    {\n      \"column\": \"vehicle_style\",\n      \"properties\": {\n        \"dtype\": \"category\",\n        \"num_unique_values\": 16,\n        \"samples\": [\n          \"coupe\",\n          \"convertible\",\n          \"2dr_hatchback\"\n        ],\n        \"semantic_type\": \"\",\n        \"description\": \"\"\n      }\n    },\n    {\n      \"column\": \"highway_mpg\",\n      \"properties\": {\n        \"dtype\": \"number\",\n        \"std\": 8,\n        \"min\": 12,\n        \"max\": 354,\n        \"num_unique_values\": 59,\n        \"samples\": [\n          26,\n          20,\n          354\n        ],\n        \"semantic_type\": \"\",\n        \"description\": \"\"\n      }\n    },\n    {\n      \"column\": \"city_mpg\",\n      \"properties\": {\n        \"dtype\": \"number\",\n        \"std\": 8,\n        \"min\": 7,\n        \"max\": 137,\n        \"num_unique_values\": 69,\n        \"samples\": [\n          9,\n          19,\n          41\n        ],\n        \"semantic_type\": \"\",\n        \"description\": \"\"\n      }\n    },\n    {\n      \"column\": \"popularity\",\n      \"properties\": {\n        \"dtype\": \"number\",\n        \"std\": 1441,\n        \"min\": 2,\n        \"max\": 5657,\n        \"num_unique_values\": 48,\n        \"samples\": [\n          1385,\n          258,\n          520\n        ],\n        \"semantic_type\": \"\",\n        \"description\": \"\"\n      }\n    },\n    {\n      \"column\": \"msrp\",\n      \"properties\": {\n        \"dtype\": \"number\",\n        \"std\": 60109,\n        \"min\": 2000,\n        \"max\": 2065902,\n        \"num_unique_values\": 6049,\n        \"samples\": [\n          42610,\n          32030,\n          89995\n        ],\n        \"semantic_type\": \"\",\n        \"description\": \"\"\n      }\n    }\n  ]\n}"
            }
          },
          "metadata": {},
          "execution_count": 6
        }
      ],
      "source": [
        "df.head()"
      ]
    },
    {
      "cell_type": "markdown",
      "source": [
        "The dataset includes various columns like the car’s make, model, year, engine specs, transmission type, fuel efficiency, and even a popularity score. But the most important column is MSRP—the manufacturer’s suggested retail price. This is our target: the value we’ll train our model to predict using all the other information as clues."
      ],
      "metadata": {
        "id": "O8R0nHNbI0Ug"
      }
    },
    {
      "cell_type": "markdown",
      "source": [
        "The plot immediately reveals something crucial: our data has a \"long tail\" distribution. This means that while most cars are clustered at the lower end of the price spectrum (the \"head\"), there are a handful of extremely expensive luxury or exotic cars that create a very long, thin \"tail\" stretching out to the right.\n",
        "\n"
      ],
      "metadata": {
        "id": "BYYWwMGrL3KU"
      }
    },
    {
      "cell_type": "code",
      "execution_count": null,
      "metadata": {
        "colab": {
          "base_uri": "https://localhost:8080/",
          "height": 449
        },
        "id": "BI5g9fFalztI",
        "outputId": "d22e8a1f-cf01-436b-a6c7-87c8bf902457"
      },
      "outputs": [
        {
          "output_type": "display_data",
          "data": {
            "text/plain": [
              "<Figure size 640x480 with 1 Axes>"
            ],
            "image/png": "[encoded data removed]"
          },
          "metadata": {}
        }
      ],
      "source": [
        "# Create the histogram\n",
        "sns.histplot(df.msrp, bins=40)\n",
        "\n",
        "# Set labels using matplotlib\n",
        "plt.xlabel('price')\n",
        "plt.ylabel('frequency')\n",
        "plt.show()"
      ]
    },
    {
      "cell_type": "markdown",
      "source": [
        "Visual checks of the target (msrp) distribution — first full range, then zoom to values < $100k to inspect the main bulk of the data."
      ],
      "metadata": {
        "id": "bxmwOnVkL8NM"
      }
    },
    {
      "cell_type": "code",
      "execution_count": null,
      "metadata": {
        "colab": {
          "base_uri": "https://localhost:8080/",
          "height": 449
        },
        "id": "Ffoperk4HPIz",
        "outputId": "3ca08d70-467e-410f-9ec1-518dec7f6824"
      },
      "outputs": [
        {
          "output_type": "display_data",
          "data": {
            "text/plain": [
              "<Figure size 640x480 with 1 Axes>"
            ],
            "image/png": "[encoded data removed]"
          },
          "metadata": {}
        }
      ],
      "source": [
        " sns.histplot(df.msrp[df.msrp < 100000])\n",
        " plt.xlabel('price')\n",
        "plt.ylabel('frequency')\n",
        "plt.show()"
      ]
    },
    {
      "cell_type": "markdown",
      "source": [
        "This long tail is problematic. It's hard to see the details of where most cars are priced, and more importantly, it can severely confuse a machine learning model. The model might become obsessed with trying to predict those few ultra-expensive cars correctly at the expense of accurately pricing the vast majority of vehicles. To solve this, we use a clever mathematical trick called a log transformation."
      ],
      "metadata": {
        "id": "Ecq18M8WMQIW"
      }
    },
    {
      "cell_type": "code",
      "execution_count": null,
      "metadata": {
        "id": "l55OAxzlLf5J"
      },
      "outputs": [],
      "source": [
        "log_price = np.log1p(df.msrp)\n"
      ]
    },
    {
      "cell_type": "code",
      "execution_count": null,
      "metadata": {
        "colab": {
          "base_uri": "https://localhost:8080/",
          "height": 467
        },
        "id": "ThbtOWfeFm9z",
        "outputId": "c1ece068-ddd6-4ea5-d500-bbcfb92d63d9"
      },
      "outputs": [
        {
          "output_type": "execute_result",
          "data": {
            "text/plain": [
              "<Axes: xlabel='msrp', ylabel='Count'>"
            ]
          },
          "metadata": {},
          "execution_count": 10
        },
        {
          "output_type": "display_data",
          "data": {
            "text/plain": [
              "<Figure size 640x480 with 1 Axes>"
            ],
            "image/png": "[encoded data removed]"
          },
          "metadata": {}
        }
      ],
      "source": [
        "sns.histplot(log_price)"
      ]
    },
    {
      "cell_type": "markdown",
      "source": [
        "# Checking for missing values"
      ],
      "metadata": {
        "id": "aN9Qvsq0Nf5B"
      }
    },
    {
      "cell_type": "markdown",
      "source": [
        "So, our next task is to scan through our dataset to see if any values are missing. This will tell us if we need to take extra steps to clean and prepare our data before we can use it to build our price prediction model.\n",
        "\n"
      ],
      "metadata": {
        "id": "aTX2SR7_NiWC"
      }
    },
    {
      "cell_type": "code",
      "execution_count": null,
      "metadata": {
        "colab": {
          "base_uri": "https://localhost:8080/",
          "height": 585
        },
        "id": "EoeJRZDEFr7r",
        "outputId": "eefd2937-12b5-4dda-d3d9-380291b2a030"
      },
      "outputs": [
        {
          "output_type": "execute_result",
          "data": {
            "text/plain": [
              "make                    0\n",
              "model                   0\n",
              "year                    0\n",
              "engine_fuel_type        3\n",
              "engine_hp              69\n",
              "engine_cylinders       30\n",
              "transmission_type       0\n",
              "driven_wheels           0\n",
              "number_of_doors         6\n",
              "market_category      3742\n",
              "vehicle_size            0\n",
              "vehicle_style           0\n",
              "highway_mpg             0\n",
              "city_mpg                0\n",
              "popularity              0\n",
              "msrp                    0\n",
              "dtype: int64"
            ],
            "text/html": [
              "<div>\n",
              "<style scoped>\n",
              "    .dataframe tbody tr th:only-of-type {\n",
              "        vertical-align: middle;\n",
              "    }\n",
              "\n",
              "    .dataframe tbody tr th {\n",
              "        vertical-align: top;\n",
              "    }\n",
              "\n",
              "    .dataframe thead th {\n",
              "        text-align: right;\n",
              "    }\n",
              "</style>\n",
              "<table border=\"1\" class=\"dataframe\">\n",
              "  <thead>\n",
              "    <tr style=\"text-align: right;\">\n",
              "      <th></th>\n",
              "      <th>0</th>\n",
              "    </tr>\n",
              "  </thead>\n",
              "  <tbody>\n",
              "    <tr>\n",
              "      <th>make</th>\n",
              "      <td>0</td>\n",
              "    </tr>\n",
              "    <tr>\n",
              "      <th>model</th>\n",
              "      <td>0</td>\n",
              "    </tr>\n",
              "    <tr>\n",
              "      <th>year</th>\n",
              "      <td>0</td>\n",
              "    </tr>\n",
              "    <tr>\n",
              "      <th>engine_fuel_type</th>\n",
              "      <td>3</td>\n",
              "    </tr>\n",
              "    <tr>\n",
              "      <th>engine_hp</th>\n",
              "      <td>69</td>\n",
              "    </tr>\n",
              "    <tr>\n",
              "      <th>engine_cylinders</th>\n",
              "      <td>30</td>\n",
              "    </tr>\n",
              "    <tr>\n",
              "      <th>transmission_type</th>\n",
              "      <td>0</td>\n",
              "    </tr>\n",
              "    <tr>\n",
              "      <th>driven_wheels</th>\n",
              "      <td>0</td>\n",
              "    </tr>\n",
              "    <tr>\n",
              "      <th>number_of_doors</th>\n",
              "      <td>6</td>\n",
              "    </tr>\n",
              "    <tr>\n",
              "      <th>market_category</th>\n",
              "      <td>3742</td>\n",
              "    </tr>\n",
              "    <tr>\n",
              "      <th>vehicle_size</th>\n",
              "      <td>0</td>\n",
              "    </tr>\n",
              "    <tr>\n",
              "      <th>vehicle_style</th>\n",
              "      <td>0</td>\n",
              "    </tr>\n",
              "    <tr>\n",
              "      <th>highway_mpg</th>\n",
              "      <td>0</td>\n",
              "    </tr>\n",
              "    <tr>\n",
              "      <th>city_mpg</th>\n",
              "      <td>0</td>\n",
              "    </tr>\n",
              "    <tr>\n",
              "      <th>popularity</th>\n",
              "      <td>0</td>\n",
              "    </tr>\n",
              "    <tr>\n",
              "      <th>msrp</th>\n",
              "      <td>0</td>\n",
              "    </tr>\n",
              "  </tbody>\n",
              "</table>\n",
              "</div><br><label><b>dtype:</b> int64</label>"
            ]
          },
          "metadata": {},
          "execution_count": 11
        }
      ],
      "source": [
        "df.isnull().sum()"
      ]
    },
    {
      "cell_type": "markdown",
      "metadata": {
        "id": "grrXARCHfTbT"
      },
      "source": [
        "# Splitting data into Train - Valid - Test sets"
      ]
    },
    {
      "cell_type": "code",
      "execution_count": null,
      "metadata": {
        "colab": {
          "base_uri": "https://localhost:8080/"
        },
        "id": "l2nAbOLMPsZs",
        "outputId": "af8f7e8a-2773-44dd-c27f-a89ee406d4a6"
      },
      "outputs": [
        {
          "output_type": "stream",
          "name": "stdout",
          "text": [
            "11914\n"
          ]
        }
      ],
      "source": [
        "n = len(df)\n",
        "print(n)"
      ]
    },
    {
      "cell_type": "markdown",
      "source": [
        "Calculate how many rows go into train/validation/test given 60/20/20 split (works for any n)."
      ],
      "metadata": {
        "id": "GWn2zqDBjdeL"
      }
    },
    {
      "cell_type": "code",
      "execution_count": null,
      "metadata": {
        "colab": {
          "base_uri": "https://localhost:8080/"
        },
        "id": "tIP1DXmOfjeH",
        "outputId": "54c18682-9b94-4f90-c579-445c96f4eafe"
      },
      "outputs": [
        {
          "output_type": "stream",
          "name": "stdout",
          "text": [
            "2382\n",
            "2382\n",
            "7150\n"
          ]
        }
      ],
      "source": [
        "n_val = int(0.2 * n)\n",
        "n_test = int(0.2 * n)\n",
        "n_train = n - (n_val + n_test)\n",
        "print(n_val)\n",
        "print(n_test)\n",
        "print(n_train)"
      ]
    },
    {
      "cell_type": "markdown",
      "source": [
        "Fix the RNG seed for reproducibility, create a shuffled index array, and use it to shuffle the DataFrame."
      ],
      "metadata": {
        "id": "K-g-wN8nkRmh"
      }
    },
    {
      "cell_type": "code",
      "execution_count": null,
      "metadata": {
        "id": "85cKA_X9wot8"
      },
      "outputs": [],
      "source": [
        "np.random.seed(2)\n",
        "idx = np.arange(n)\n",
        "np.random.shuffle(idx)"
      ]
    },
    {
      "cell_type": "code",
      "source": [
        "df_shuffled = df.iloc[idx]"
      ],
      "metadata": {
        "id": "RImCK4re-Zla"
      },
      "execution_count": null,
      "outputs": []
    },
    {
      "cell_type": "markdown",
      "source": [
        "# Split shuffled DataFrame into train / validation / test"
      ],
      "metadata": {
        "id": "DpI8wy9akc8s"
      }
    },
    {
      "cell_type": "markdown",
      "source": [
        "Use .iloc ranges on the shuffled DataFrame to create df_train, df_val, and df_test. .copy() avoids future pandas warnings / chained assignments."
      ],
      "metadata": {
        "id": "ZEj34yn8kf_d"
      }
    },
    {
      "cell_type": "code",
      "source": [
        "df_train = df_shuffled.iloc[:n_train].copy()\n",
        "df_val = df_shuffled.iloc[n_train:n_train+n_val].copy()\n",
        "df_test = df_shuffled.iloc[n_train+n_val:].copy()"
      ],
      "metadata": {
        "id": "quFCuNhS-bXh"
      },
      "execution_count": null,
      "outputs": []
    },
    {
      "cell_type": "markdown",
      "source": [
        "# Prepare targets (log-transformed) and remove target column from features"
      ],
      "metadata": {
        "id": "Zn8szEOYkv-c"
      }
    },
    {
      "cell_type": "markdown",
      "source": [
        "Create y_train, y_val, y_test as log(1 + msrp) arrays (model trains on log-price). Then remove msrp from feature DataFrames to avoid accidental leakage."
      ],
      "metadata": {
        "id": "y4z55BCbk6Vz"
      }
    },
    {
      "cell_type": "code",
      "source": [
        " y_train = np.log1p(df_train.msrp.values)\n",
        " y_val = np.log1p(df_val.msrp.values)\n",
        " y_test = np.log1p(df_test.msrp.values)"
      ],
      "metadata": {
        "id": "ExPRzzyEZnUo"
      },
      "execution_count": null,
      "outputs": []
    },
    {
      "cell_type": "code",
      "source": [
        " del df_train['msrp']\n",
        " del df_val['msrp']\n",
        " del df_test['msrp']"
      ],
      "metadata": {
        "id": "HcioM9AbawaD"
      },
      "execution_count": null,
      "outputs": []
    },
    {
      "cell_type": "markdown",
      "source": [
        "# Toy linear-regression (explicit loop)"
      ],
      "metadata": {
        "id": "K-YVVEuRlEHt"
      }
    },
    {
      "cell_type": "markdown",
      "source": [
        "A very explicit, loop-based implementation of linear regression for a single observation. Great for learning; slow for production."
      ],
      "metadata": {
        "id": "VgEafPHglGsE"
      }
    },
    {
      "cell_type": "code",
      "source": [
        "def linear_regression(x_i, w, w0):\n",
        "    prediction = w0\n",
        "    n = len(x_i)\n",
        "    for j in range(n):\n",
        "        prediction += w[j] * x_i[j]\n",
        "    return prediction"
      ],
      "metadata": {
        "id": "6oLK1ldCJ9xB"
      },
      "execution_count": null,
      "outputs": []
    },
    {
      "cell_type": "code",
      "source": [
        "w0 = 7.17\n",
        "w = [0.01, 0.04, 0.002]\n",
        "n = 3\n",
        "\n",
        "def linear_regression(xi):\n",
        "    result = w0\n",
        "    for j in range(n):\n",
        "        result = result + xi[j] * w[j]\n",
        "    return result"
      ],
      "metadata": {
        "id": "JqaJCH7qAZz8"
      },
      "execution_count": null,
      "outputs": []
    },
    {
      "cell_type": "markdown",
      "source": [
        "# Dot product helper (manual)"
      ],
      "metadata": {
        "id": "-z7NmXRiliN0"
      }
    },
    {
      "cell_type": "markdown",
      "source": [
        "Manual dot product implementation — pedagogical helper that mirrors math notation."
      ],
      "metadata": {
        "id": "v9O73mFblpjD"
      }
    },
    {
      "cell_type": "code",
      "source": [
        "def dot(xi, w):\n",
        "    n = len(w)\n",
        "    result = 0.0\n",
        "    for j in range(n):\n",
        "        result = result + xi[j] * w[j]\n",
        "    return result"
      ],
      "metadata": {
        "id": "YwphRAea7Yqw"
      },
      "execution_count": null,
      "outputs": []
    },
    {
      "cell_type": "markdown",
      "source": [
        "# Linear regression using dot helper and NumPy dot"
      ],
      "metadata": {
        "id": "XpPDDNiMlwy9"
      }
    },
    {
      "cell_type": "markdown",
      "source": [
        "Show the same model using the dot helper, and the more efficient variant when using NumPy arrays."
      ],
      "metadata": {
        "id": "gp7DuL2wlyqU"
      }
    },
    {
      "cell_type": "code",
      "source": [
        "def linear_regression(xi):\n",
        "    return w0 + dot(xi, w)"
      ],
      "metadata": {
        "id": "tGrM7Bw67bDB"
      },
      "execution_count": null,
      "outputs": []
    },
    {
      "cell_type": "code",
      "source": [
        "def linear_regression(xi):\n",
        "    return w0 + xi.dot(w)"
      ],
      "metadata": {
        "id": "14zJULzg7dU0"
      },
      "execution_count": null,
      "outputs": []
    },
    {
      "cell_type": "code",
      "source": [
        "w = [w0] + w"
      ],
      "metadata": {
        "id": "Dp0swkQy7hZL"
      },
      "execution_count": null,
      "outputs": []
    },
    {
      "cell_type": "markdown",
      "source": [
        "# Train linear regression (NumPy implementation of normal equation)"
      ],
      "metadata": {
        "id": "JRTbfSKSm1de"
      }
    },
    {
      "cell_type": "markdown",
      "source": [
        "A compact implementation that adds the dummy column, computes X^T X, inverts it, multiplies through and returns w0 and w (bias and weight vector). This is the direct normal-equation trainer."
      ],
      "metadata": {
        "id": "igA52OFCm3eP"
      }
    },
    {
      "cell_type": "code",
      "source": [
        "def train_linear_regression(X, y):\n",
        "    ones = np.ones(X.shape[0])\n",
        "    X = np.column_stack([ones, X])\n",
        "    XTX = X.T.dot(X)\n",
        "    XTX_inv = np.linalg.inv(XTX)\n",
        "    w = XTX_inv.dot(X.T).dot(y)\n",
        "    return w[0], w[1:]"
      ],
      "metadata": {
        "id": "V-hFLb_g8EDX"
      },
      "execution_count": null,
      "outputs": []
    },
    {
      "cell_type": "code",
      "source": [
        "base = ['engine_hp', 'engine_cylinders', 'highway_mpg', 'city_mpg', 'popularity']\n",
        "df_num = df_train[base]"
      ],
      "metadata": {
        "id": "Q-Vr65bQ-vhY"
      },
      "execution_count": null,
      "outputs": []
    },
    {
      "cell_type": "markdown",
      "source": [
        "Filling missing values with zero is a tactic that will be used in one by one multiplication of features and weights together. When feature is 0, no matter what weight the model multiplies itself with, it will result in 0."
      ],
      "metadata": {
        "id": "JcaGr7wj_XkK"
      }
    },
    {
      "cell_type": "markdown",
      "source": [
        "Fill missing numeric values with zeros (a simple strategy that effectively ignores missing features during prediction)."
      ],
      "metadata": {
        "id": "fH0Z_Br8nGou"
      }
    },
    {
      "cell_type": "code",
      "source": [
        "df_num = df_num.fillna(0)"
      ],
      "metadata": {
        "id": "eOfbavZX-9ju"
      },
      "execution_count": null,
      "outputs": []
    },
    {
      "cell_type": "markdown",
      "source": [
        "Turn the selected DataFrame into a 2D NumPy array suitable for the trainer, then train using train_linear_regression."
      ],
      "metadata": {
        "id": "vyLe8j4DntRs"
      }
    },
    {
      "cell_type": "code",
      "source": [
        "X_train = df_num.values"
      ],
      "metadata": {
        "id": "uBF0FO5B_V4b"
      },
      "execution_count": null,
      "outputs": []
    },
    {
      "cell_type": "code",
      "source": [
        "w_0, w = train_linear_regression(X_train, y_train)"
      ],
      "metadata": {
        "id": "Fw-FgZPOAEF4"
      },
      "execution_count": null,
      "outputs": []
    },
    {
      "cell_type": "markdown",
      "source": [
        "# Make predictions and compare to target (visual)"
      ],
      "metadata": {
        "id": "sMW50XyTn8Ih"
      }
    },
    {
      "cell_type": "markdown",
      "source": [
        "Predict on the training matrix and plot predicted vs actual distribution using Seaborn to visually check model fit."
      ],
      "metadata": {
        "id": "tTScQEJnn-vb"
      }
    },
    {
      "cell_type": "code",
      "source": [
        "y_pred = w_0 + X_train.dot(w)"
      ],
      "metadata": {
        "id": "63uvyTE7AF8a"
      },
      "execution_count": null,
      "outputs": []
    },
    {
      "cell_type": "code",
      "source": [
        "sns.histplot(y_pred, label='prediction')\n",
        "sns.histplot(y_train, label='target')\n",
        "plt.legend()"
      ],
      "metadata": {
        "id": "EluqVIiqAVYv",
        "outputId": "6e34b42d-fa06-4a47-9557-af1c2c688ab4",
        "colab": {
          "base_uri": "https://localhost:8080/",
          "height": 448
        }
      },
      "execution_count": null,
      "outputs": [
        {
          "output_type": "execute_result",
          "data": {
            "text/plain": [
              "<matplotlib.legend.Legend at 0x7d3d0fd95c70>"
            ]
          },
          "metadata": {},
          "execution_count": 31
        },
        {
          "output_type": "display_data",
          "data": {
            "text/plain": [
              "<Figure size 640x480 with 1 Axes>"
            ],
            "image/png": "[encoded data removed]"
          },
          "metadata": {}
        }
      ]
    },
    {
      "cell_type": "code",
      "source": [
        "def train_linear_regression(X, y):\n",
        "    ones = np.ones(X.shape[0])\n",
        "    X = np.column_stack([ones, X])\n",
        "    XTX = X.T.dot(X)\n",
        "    XTX_inv = np.linalg.inv(XTX)\n",
        "    w = XTX_inv.dot(X.T).dot(y)\n",
        "    return w[0], w[1:]"
      ],
      "metadata": {
        "id": "9SkXA637AXmG"
      },
      "execution_count": null,
      "outputs": []
    },
    {
      "cell_type": "markdown",
      "source": [
        "# RMSE Calculation"
      ],
      "metadata": {
        "id": "pqKg6U7goXAY"
      }
    },
    {
      "cell_type": "markdown",
      "source": [
        "This function takes two vectors (y and y_pred) and calculates the RMSE, which is commonly used to evaluate regression models. The function calculates element-wise differences, squares them, averages them (MSE), and then takes the square root to get RMSE."
      ],
      "metadata": {
        "id": "hknJt5AzobML"
      }
    },
    {
      "cell_type": "code",
      "source": [
        "def rmse(y, y_pred):\n",
        "    error = y_pred - y\n",
        "    mse = (error ** 2).mean()\n",
        "    return np.sqrt(mse)"
      ],
      "metadata": {
        "id": "-tednzw0Bl9n"
      },
      "execution_count": null,
      "outputs": []
    },
    {
      "cell_type": "code",
      "source": [
        "rmse(y_train, y_pred)"
      ],
      "metadata": {
        "colab": {
          "base_uri": "https://localhost:8080/"
        },
        "id": "sTsy_MjcB6os",
        "outputId": "aa5cc385-0f77-44b7-ddd4-12d23fe5f2b3"
      },
      "execution_count": null,
      "outputs": [
        {
          "output_type": "execute_result",
          "data": {
            "text/plain": [
              "np.float64(0.7554192603920132)"
            ]
          },
          "metadata": {},
          "execution_count": 34
        }
      ]
    },
    {
      "cell_type": "code",
      "source": [
        "df_num = df_val[base]\n",
        "df_num = df_num.fillna(0)\n",
        "X_val = df_num.values\n",
        "y_pred = w_0 + X_val.dot(w)\n",
        "rmse(y_val, y_pred)"
      ],
      "metadata": {
        "colab": {
          "base_uri": "https://localhost:8080/"
        },
        "id": "omiTQ8xhCANz",
        "outputId": "7c49f780-f8ea-441b-acea-f08000c057fc"
      },
      "execution_count": null,
      "outputs": [
        {
          "output_type": "execute_result",
          "data": {
            "text/plain": [
              "np.float64(0.761653099130156)"
            ]
          },
          "metadata": {},
          "execution_count": 35
        }
      ]
    },
    {
      "cell_type": "code",
      "source": [
        "def prepare_X(df):\n",
        "    df_num = df[base]\n",
        "    df_num = df_num.fillna(0)\n",
        "    X = df_num.values\n",
        "    return X"
      ],
      "metadata": {
        "id": "fE0SGEiJCejZ"
      },
      "execution_count": null,
      "outputs": []
    },
    {
      "cell_type": "code",
      "source": [
        "X_train = prepare_X(df_train)\n",
        "w_0, w = train_linear_regression(X_train, y_train)\n",
        "X_val = prepare_X(df_val)\n",
        "y_pred = w_0 + X_val.dot(w)\n",
        "print('validation:', rmse(y_val, y_pred))"
      ],
      "metadata": {
        "colab": {
          "base_uri": "https://localhost:8080/"
        },
        "id": "hMl98lnfD3D5",
        "outputId": "37d0b612-51a3-41e5-fc96-b8c352d10e70"
      },
      "execution_count": null,
      "outputs": [
        {
          "output_type": "stream",
          "name": "stdout",
          "text": [
            "validation: 0.761653099130156\n"
          ]
        }
      ]
    },
    {
      "cell_type": "markdown",
      "source": [
        "# Generalizing the X-preparation Function"
      ],
      "metadata": {
        "id": "PfEYMxOWqV-P"
      }
    },
    {
      "cell_type": "markdown",
      "source": [
        "To avoid duplicating code when preparing both the training and validation feature matrices (X_train, X_val), we create a helper function prepare_X that handles the extraction and preprocessing of features."
      ],
      "metadata": {
        "id": "c96O0kJTqcbJ"
      }
    },
    {
      "cell_type": "code",
      "source": [
        "def prepare_X(df):\n",
        "    df = df.copy()\n",
        "    features = base.copy()\n",
        "    df['age'] = 2017 - df.year\n",
        "    features.append('age')\n",
        "    df_num = df[features]\n",
        "    df_num = df_num.fillna(0)\n",
        "    X = df_num.values\n",
        "    return X"
      ],
      "metadata": {
        "id": "56XnmU1bEOGW"
      },
      "execution_count": null,
      "outputs": []
    },
    {
      "cell_type": "markdown",
      "source": [
        "# Training and Validation in One Block"
      ],
      "metadata": {
        "id": "L_P_s1PzqnDo"
      }
    },
    {
      "cell_type": "markdown",
      "source": [
        "With prepare_X in place, we simplify the training and validation process. We first prepare X_train and then train the model on it. After that, we apply the same model to the validation set X_val and calculate the RMSE to evaluate performance."
      ],
      "metadata": {
        "id": "Uqc8yDyUqpQP"
      }
    },
    {
      "cell_type": "code",
      "source": [
        "X_train = prepare_X(df_train)\n",
        "w_0, w = train_linear_regression(X_train, y_train)\n",
        "X_val = prepare_X(df_val)\n",
        "y_pred = w_0 + X_val.dot(w)\n",
        "print('validation:', rmse(y_val, y_pred))"
      ],
      "metadata": {
        "colab": {
          "base_uri": "https://localhost:8080/"
        },
        "id": "lEXzHZkEE5nv",
        "outputId": "d8de1ea4-e3d9-4d28-b864-08780620e073"
      },
      "execution_count": null,
      "outputs": [
        {
          "output_type": "stream",
          "name": "stdout",
          "text": [
            "validation: 0.5172055461058299\n"
          ]
        }
      ]
    },
    {
      "cell_type": "markdown",
      "source": [
        "Comparing Predicted and Actual Distributions"
      ],
      "metadata": {
        "id": "nLSPMpKprbBj"
      }
    },
    {
      "cell_type": "code",
      "source": [
        "sns.histplot(y_pred, label='prediction')\n",
        "sns.histplot(y_val, label='target')\n",
        "plt.legend()"
      ],
      "metadata": {
        "colab": {
          "base_uri": "https://localhost:8080/",
          "height": 448
        },
        "id": "dl6MW5_2E9ze",
        "outputId": "4e7ac3b1-db48-4e74-afec-5981c2e1c770"
      },
      "execution_count": null,
      "outputs": [
        {
          "output_type": "execute_result",
          "data": {
            "text/plain": [
              "<matplotlib.legend.Legend at 0x7d3d0f039400>"
            ]
          },
          "metadata": {},
          "execution_count": 40
        },
        {
          "output_type": "display_data",
          "data": {
            "text/plain": [
              "<Figure size 640x480 with 1 Axes>"
            ],
            "image/png": "[encoded data removed]"
          },
          "metadata": {}
        }
      ]
    },
    {
      "cell_type": "code",
      "source": [
        "df['make'].value_counts().head(5)"
      ],
      "metadata": {
        "colab": {
          "base_uri": "https://localhost:8080/",
          "height": 272
        },
        "id": "4oJWHWbZFShJ",
        "outputId": "08eed13c-cf1d-4890-ab7c-79d8dc2d9fdb"
      },
      "execution_count": null,
      "outputs": [
        {
          "output_type": "execute_result",
          "data": {
            "text/plain": [
              "make\n",
              "chevrolet     1123\n",
              "ford           881\n",
              "volkswagen     809\n",
              "toyota         746\n",
              "dodge          626\n",
              "Name: count, dtype: int64"
            ],
            "text/html": [
              "<div>\n",
              "<style scoped>\n",
              "    .dataframe tbody tr th:only-of-type {\n",
              "        vertical-align: middle;\n",
              "    }\n",
              "\n",
              "    .dataframe tbody tr th {\n",
              "        vertical-align: top;\n",
              "    }\n",
              "\n",
              "    .dataframe thead th {\n",
              "        text-align: right;\n",
              "    }\n",
              "</style>\n",
              "<table border=\"1\" class=\"dataframe\">\n",
              "  <thead>\n",
              "    <tr style=\"text-align: right;\">\n",
              "      <th></th>\n",
              "      <th>count</th>\n",
              "    </tr>\n",
              "    <tr>\n",
              "      <th>make</th>\n",
              "      <th></th>\n",
              "    </tr>\n",
              "  </thead>\n",
              "  <tbody>\n",
              "    <tr>\n",
              "      <th>chevrolet</th>\n",
              "      <td>1123</td>\n",
              "    </tr>\n",
              "    <tr>\n",
              "      <th>ford</th>\n",
              "      <td>881</td>\n",
              "    </tr>\n",
              "    <tr>\n",
              "      <th>volkswagen</th>\n",
              "      <td>809</td>\n",
              "    </tr>\n",
              "    <tr>\n",
              "      <th>toyota</th>\n",
              "      <td>746</td>\n",
              "    </tr>\n",
              "    <tr>\n",
              "      <th>dodge</th>\n",
              "      <td>626</td>\n",
              "    </tr>\n",
              "  </tbody>\n",
              "</table>\n",
              "</div><br><label><b>dtype:</b> int64</label>"
            ]
          },
          "metadata": {},
          "execution_count": 41
        }
      ]
    },
    {
      "cell_type": "markdown",
      "source": [
        "# Modifying prepare_X to Include \"Age\""
      ],
      "metadata": {
        "id": "vtdawcIVsda8"
      }
    },
    {
      "cell_type": "markdown",
      "source": [
        "We update the prepare_X function to include the age feature in the list of features used for model training. This function ensures consistency when preparing both the training and validation sets."
      ],
      "metadata": {
        "id": "W7NMuvOisgTc"
      }
    },
    {
      "cell_type": "code",
      "source": [
        "def prepare_X(df):\n",
        "    df = df.copy()\n",
        "    features = base.copy()\n",
        "\n",
        "    df['age'] = 2017 - df.year\n",
        "    features.append('age')\n",
        "\n",
        "    for v in [2, 3, 4]:\n",
        "        feature = 'num_doors_%s' % v\n",
        "        df[feature] = (df['number_of_doors'] == v).astype(int)\n",
        "        features.append(feature)\n",
        "\n",
        "    for v in ['chevrolet', 'ford', 'volkswagen', 'toyota', 'dodge']:\n",
        "        feature = 'is_make_%s' % v\n",
        "        df[feature] = (df['make'] == v).astype(int)\n",
        "        features.append(feature)\n",
        "\n",
        "    df_num = df[features]\n",
        "    df_num = df_num.fillna(0)\n",
        "    X = df_num.values\n",
        "    return X"
      ],
      "metadata": {
        "id": "omXwsqC3FpGl"
      },
      "execution_count": null,
      "outputs": []
    },
    {
      "cell_type": "markdown",
      "source": [
        "# Re-testing with the \"Age\" Feature"
      ],
      "metadata": {
        "id": "GYo31U8muQgg"
      }
    },
    {
      "cell_type": "markdown",
      "source": [
        "After adding the age feature, we retrain the model and evaluate it on the validation set. The updated RMSE shows significant improvement, demonstrating that the new feature contributes useful information."
      ],
      "metadata": {
        "id": "xfykMW-uuTiP"
      }
    },
    {
      "cell_type": "code",
      "source": [
        "X_train = prepare_X(df_train)\n",
        "w_0, w = train_linear_regression(X_train, y_train)\n",
        "\n",
        "X_val = prepare_X(df_val)\n",
        "y_pred = w_0 + X_val.dot(w)\n",
        "print('validation:', rmse(y_val, y_pred))"
      ],
      "metadata": {
        "colab": {
          "base_uri": "https://localhost:8080/"
        },
        "id": "-jEHsn4vHAIE",
        "outputId": "7c25b722-91f2-4e76-a846-161305b147ee"
      },
      "execution_count": null,
      "outputs": [
        {
          "output_type": "stream",
          "name": "stdout",
          "text": [
            "validation: 0.5076038849556795\n"
          ]
        }
      ]
    },
    {
      "cell_type": "markdown",
      "source": [
        "# Handling More Categorical Variables"
      ],
      "metadata": {
        "id": "Nv-97NkJu_4o"
      }
    },
    {
      "cell_type": "markdown",
      "source": [
        "Next, we extend our feature engineering to handle more categorical variables like engine_fuel_type, transmission_type, and others. The method remains the same: one-hot encoding for each distinct value of these categorical features."
      ],
      "metadata": {
        "id": "PV856-3MvBvL"
      }
    },
    {
      "cell_type": "code",
      "source": [
        "def prepare_X(df):\n",
        "    df = df.copy()\n",
        "    features = base.copy()\n",
        "\n",
        "    df['age'] = 2017 - df.year\n",
        "    features.append('age')\n",
        "\n",
        "    for v in [2, 3, 4]:\n",
        "        feature = 'num_doors_%s' % v\n",
        "        df[feature] = (df['number_of_doors'] == v).astype(int)\n",
        "        features.append(feature)\n",
        "\n",
        "    for v in ['chevrolet', 'ford', 'volkswagen', 'toyota', 'dodge']:\n",
        "        feature = 'is_make_%s' % v\n",
        "        df[feature] = (df['make'] == v).astype(int)\n",
        "        features.append(feature)\n",
        "\n",
        "    for v in ['regular_unleaded', 'premium_unleaded_(required)',\n",
        "              'premium_unleaded_(recommended)',\n",
        "              'flex-fuel_(unleaded/e85)']:\n",
        "        feature = 'is_type_%s' % v\n",
        "        df[feature] = (df['engine_fuel_type'] == v).astype(int)\n",
        "        features.append(feature)\n",
        "\n",
        "    for v in ['automatic', 'manual', 'automated_manual']:\n",
        "        feature = 'is_transmission_%s' % v\n",
        "        df[feature] = (df['transmission_type'] == v).astype(int)\n",
        "        features.append(feature)\n",
        "\n",
        "    for v in ['front_wheel_drive', 'rear_wheel_drive',\n",
        "              'all_wheel_drive', 'four_wheel_drive']:\n",
        "        feature = 'is_driven_wheels_%s' % v\n",
        "        df[feature] = (df['driven_wheels'] == v).astype(int)\n",
        "        features.append(feature)\n",
        "\n",
        "    for v in ['crossover', 'flex_fuel', 'luxury',\n",
        "              'luxury,performance', 'hatchback']:\n",
        "        feature = 'is_mc_%s' % v\n",
        "        df[feature] = (df['market_category'] == v).astype(int)\n",
        "        features.append(feature)\n",
        "\n",
        "    for v in ['compact', 'midsize', 'large']:\n",
        "        feature = 'is_size_%s' % v\n",
        "        df[feature] = (df['vehicle_size'] == v).astype(int)\n",
        "        features.append(feature)\n",
        "\n",
        "    for v in ['sedan', '4dr_suv', 'coupe', 'convertible',\n",
        "              '4dr_hatchback']:\n",
        "        feature = 'is_style_%s' % v\n",
        "        df[feature] = (df['vehicle_style'] == v).astype(int)\n",
        "        features.append(feature)\n",
        "\n",
        "    df_num = df[features]\n",
        "    df_num = df_num.fillna(0)\n",
        "    X = df_num.values\n",
        "    return X"
      ],
      "metadata": {
        "id": "K433xCMWNc9d"
      },
      "execution_count": null,
      "outputs": []
    },
    {
      "cell_type": "markdown",
      "source": [
        "# Final Model Evaluation (With New Features)"
      ],
      "metadata": {
        "id": "HZyOYxIpvOLD"
      }
    },
    {
      "cell_type": "markdown",
      "source": [
        "After adding the new features (e.g., fuel type, transmission), we test the model's performance again. However, as seen in the code, adding these features worsened the performance. This could be due to overfitting or numerical instability."
      ],
      "metadata": {
        "id": "DxNvVh4qvQJh"
      }
    },
    {
      "cell_type": "code",
      "source": [
        "X_train = prepare_X(df_train)\n",
        "w_0, w = train_linear_regression(X_train, y_train)\n",
        "\n",
        "X_val = prepare_X(df_val)\n",
        "y_pred = w_0 + X_val.dot(w)\n",
        "print('validation:', rmse(y_val, y_pred))"
      ],
      "metadata": {
        "colab": {
          "base_uri": "https://localhost:8080/"
        },
        "id": "j0r-nfczPN_1",
        "outputId": "fdf56093-e653-405f-9efa-1003697e38cc"
      },
      "execution_count": null,
      "outputs": [
        {
          "output_type": "stream",
          "name": "stdout",
          "text": [
            "validation: 71.37786410717939\n"
          ]
        }
      ]
    },
    {
      "cell_type": "markdown",
      "source": [
        "# Linear Regression with Regularization"
      ],
      "metadata": {
        "id": "4pJ4Y0aSvjTl"
      }
    },
    {
      "cell_type": "markdown",
      "source": [
        "This is the function that implements regularized linear regression, also known as ridge regression. The r parameter controls the strength of regularization. A higher value of r results in more regularization, which shrinks the weights."
      ],
      "metadata": {
        "id": "h42NX7d2voLe"
      }
    },
    {
      "cell_type": "code",
      "source": [
        "def train_linear_regression_reg(X, y, r=0.0):\n",
        "    ones = np.ones(X.shape[0])\n",
        "    X = np.column_stack([ones, X])\n",
        "    XTX = X.T.dot(X)\n",
        "    reg = r * np.eye(XTX.shape[0])\n",
        "    XTX = XTX + reg\n",
        "    XTX_inv = np.linalg.inv(XTX)\n",
        "    w = XTX_inv.dot(X.T).dot(y)\n",
        "    return w[0], w[1:]"
      ],
      "metadata": {
        "id": "IlRiqwTGSjVj"
      },
      "execution_count": null,
      "outputs": []
    },
    {
      "cell_type": "markdown",
      "source": [
        "# Evaluating the Impact of Regularization"
      ],
      "metadata": {
        "id": "LYi8cTPHvvT-"
      }
    },
    {
      "cell_type": "markdown",
      "source": [
        "We test different values of r to see how regularization affects the weights. As r increases, the weights should shrink, reducing the model's sensitivity to small changes in the input data."
      ],
      "metadata": {
        "id": "mP7J-QT9vxW4"
      }
    },
    {
      "cell_type": "code",
      "source": [
        "for r in [0, 0.001, 0.01, 0.1, 1, 10]:\n",
        "    w_0, w = train_linear_regression_reg(X_train, y_train, r=r)\n",
        "    print('%5s, %.2f, %.2f, %.2f' % (r, w_0, w[13], w[21]))"
      ],
      "metadata": {
        "colab": {
          "base_uri": "https://localhost:8080/"
        },
        "id": "W3GuLsgTUW-D",
        "outputId": "e65f5c6d-a18d-48cf-cf55-73e5453dfef5"
      },
      "execution_count": null,
      "outputs": [
        {
          "output_type": "stream",
          "name": "stdout",
          "text": [
            "    0, 15838998853873358.00, -11.14, -15838998853873556.00\n",
            "0.001, 7.20, -0.10, 1.81\n",
            " 0.01, 7.18, -0.10, 1.81\n",
            "  0.1, 7.05, -0.10, 1.78\n",
            "    1, 6.22, -0.10, 1.56\n",
            "   10, 4.39, -0.09, 1.08\n"
          ]
        }
      ]
    },
    {
      "cell_type": "markdown",
      "source": [
        "# Testing RMSE with Regularization"
      ],
      "metadata": {
        "id": "pwogLrGrv9W0"
      }
    },
    {
      "cell_type": "markdown",
      "source": [
        "we check the RMSE (Root Mean Squared Error) for different values of r to see how regularization affects the model's performance on the validation set. A lower RMSE indicates better performance."
      ],
      "metadata": {
        "id": "FjzBPvISv_HL"
      }
    },
    {
      "cell_type": "code",
      "source": [
        "X_train = prepare_X(df_train)\n",
        "w_0, w = train_linear_regression_reg(X_train, y_train, r=0.001)\n",
        "\n",
        "X_val = prepare_X(df_val)\n",
        "y_pred = w_0 + X_val.dot(w)\n",
        "print('validation:', rmse(y_val, y_pred))"
      ],
      "metadata": {
        "colab": {
          "base_uri": "https://localhost:8080/"
        },
        "id": "D6fU19tDVKPR",
        "outputId": "4f587f9e-2396-4b4f-b0fd-3ebda6e7834a"
      },
      "execution_count": null,
      "outputs": [
        {
          "output_type": "stream",
          "name": "stdout",
          "text": [
            "validation: 0.46022676273364194\n"
          ]
        }
      ]
    },
    {
      "cell_type": "markdown",
      "source": [
        "# Fine-Tuning the Regularization Parameter"
      ],
      "metadata": {
        "id": "v5646rBewhxZ"
      }
    },
    {
      "cell_type": "markdown",
      "source": [
        "We experiment with various values of r to find the optimal regularization strength that minimizes the RMSE on the validation set. This helps to identify the best model configuration."
      ],
      "metadata": {
        "id": "mH6WMP2Pwjsa"
      }
    },
    {
      "cell_type": "code",
      "source": [
        "X_train = prepare_X(df_train)\n",
        "X_val = prepare_X(df_val)\n",
        "\n",
        "for r in [0.000001, 0.0001, 0.001, 0.01, 0.1, 1, 5, 10]:\n",
        "    w_0, w = train_linear_regression_reg(X_train, y_train, r=r)\n",
        "    y_pred = w_0 + X_val.dot(w)\n",
        "    print('%6s' %r, rmse(y_val, y_pred))"
      ],
      "metadata": {
        "colab": {
          "base_uri": "https://localhost:8080/"
        },
        "id": "YIxW_kiDVdsE",
        "outputId": "9489513c-2204-49eb-8b50-9e5302bf7180"
      },
      "execution_count": null,
      "outputs": [
        {
          "output_type": "stream",
          "name": "stdout",
          "text": [
            " 1e-06 0.46022548424788495\n",
            "0.0001 0.4602254932133925\n",
            " 0.001 0.46022676273364194\n",
            "  0.01 0.46023949636591693\n",
            "   0.1 0.4603700695794901\n",
            "     1 0.4618298042647429\n",
            "     5 0.46840796275311086\n",
            "    10 0.4757248100694009\n"
          ]
        }
      ]
    },
    {
      "cell_type": "markdown",
      "source": [
        "# Model Evaluation on Test Data"
      ],
      "metadata": {
        "id": "Iy2dhiqvwq8R"
      }
    },
    {
      "cell_type": "markdown",
      "source": [
        "After tuning the regularization parameter, we evaluate the model on the test set to check if it generalizes well to unseen data. The performance on the test set should be similar to that on the validation set."
      ],
      "metadata": {
        "id": "jyBF441-wtva"
      }
    },
    {
      "cell_type": "code",
      "source": [
        "X_train = prepare_X(df_train)\n",
        "w_0, w = train_linear_regression_reg(X_train, y_train, r=0.01)\n",
        "\n",
        "X_val = prepare_X(df_val)\n",
        "y_pred = w_0 + X_val.dot(w)\n",
        "print('validation:', rmse(y_val, y_pred))\n",
        "\n",
        "X_test = prepare_X(df_test)\n",
        "y_pred = w_0 + X_test.dot(w)\n",
        "print('test:', rmse(y_test, y_pred))"
      ],
      "metadata": {
        "colab": {
          "base_uri": "https://localhost:8080/"
        },
        "id": "cBhT1OJ_Vj5o",
        "outputId": "7f13c460-2479-4135-8608-ec693f652e5a"
      },
      "execution_count": null,
      "outputs": [
        {
          "output_type": "stream",
          "name": "stdout",
          "text": [
            "validation: 0.46023949636591693\n",
            "test: 0.4571813679733763\n"
          ]
        }
      ]
    },
    {
      "cell_type": "markdown",
      "source": [
        "# Using the Model for Prediction"
      ],
      "metadata": {
        "id": "uf-3n9EZw_gt"
      }
    },
    {
      "cell_type": "markdown",
      "source": [
        "Once the model is trained and evaluated, we can use it to make predictions for new car data. This example shows how to predict the price for a new car based on a user's input ad."
      ],
      "metadata": {
        "id": "D3GvTdAtxDTd"
      }
    },
    {
      "cell_type": "code",
      "source": [
        "ad = {\n",
        "    'city_mpg': 18,\n",
        "    'driven_wheels': 'all_wheel_drive',\n",
        "    'engine_cylinders': 6.0,\n",
        "    'engine_fuel_type': 'regular_unleaded',\n",
        "    'engine_hp': 268.0,\n",
        "    'highway_mpg': 25,\n",
        "    'make': 'toyota',\n",
        "    'market_category': 'crossover,performance',\n",
        "    'model': 'venza',\n",
        "    'number_of_doors': 4.0,\n",
        "    'popularity': 2031,\n",
        "    'transmission_type': 'automatic',\n",
        "    'vehicle_size': 'midsize',\n",
        "    'vehicle_style': 'wagon',\n",
        "    'year': 2013\n",
        "}"
      ],
      "metadata": {
        "id": "2MW10NSQV9sH"
      },
      "execution_count": null,
      "outputs": []
    },
    {
      "cell_type": "code",
      "source": [
        "df_test = pd.DataFrame([ad])\n",
        "X_test = prepare_X(df_test)\n",
        "y_pred = w_0 + X_test.dot(w)\n",
        "suggestion = np.expm1(y_pred)"
      ],
      "metadata": {
        "id": "atgXI1h7YWBF"
      },
      "execution_count": null,
      "outputs": []
    },
    {
      "cell_type": "code",
      "source": [
        "print(suggestion)"
      ],
      "metadata": {
        "colab": {
          "base_uri": "https://localhost:8080/"
        },
        "id": "PY8F_97pYYfU",
        "outputId": "10b42651-ba08-49ed-ecca-183cf4c25330"
      },
      "execution_count": null,
      "outputs": [
        {
          "output_type": "stream",
          "name": "stdout",
          "text": [
            "[28294.13592896]\n"
          ]
        }
      ]
    }
  ],
  "metadata": {
    "colab": {
      "provenance": []
    },
    "kernelspec": {
      "display_name": "Python 3",
      "name": "python3"
    },
    "language_info": {
      "name": "python"
    }
  },
  "nbformat": 4,
  "nbformat_minor": 0
}